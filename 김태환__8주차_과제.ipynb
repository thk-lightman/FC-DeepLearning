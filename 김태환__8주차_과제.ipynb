{
  "nbformat": 4,
  "nbformat_minor": 0,
  "metadata": {
    "colab": {
      "name": "김태환_ - 8주차 과제.ipynb",
      "provenance": [],
      "collapsed_sections": []
    },
    "kernelspec": {
      "name": "python3",
      "display_name": "Python 3"
    },
    "language_info": {
      "name": "python"
    }
  },
  "cells": [
    {
      "cell_type": "markdown",
      "metadata": {
        "id": "P97uN5VCg_Dd"
      },
      "source": [
        "# 8주차 과제 공지사항\n",
        "\n",
        "----\n",
        "\n",
        "1. 아래의 과제를 보고 답안을 작성하시면 됩니다.\n",
        "2. 과제에 대한 점수는 100점 만점으로 진행이 됩니다. (한 문제당 20점)\n",
        "3. 과제에 대한 평가는 모든 수강생들의 평가가 완료되면 확인할 수 있습니다. 참고부탁드립니다.\n",
        "4. 과제기한은 일요일 저녁 10시 까지 입니다. 10시 이후에는 이 불가하오니 이 점 참고부탁드립니다.\n",
        "\n",
        "\n"
      ]
    },
    {
      "cell_type": "markdown",
      "metadata": {
        "id": "ovsPfhDGhYuG"
      },
      "source": [
        "\n",
        "# 문제1. RNN\n",
        "- 난이도 : 하\n",
        "- 관련 개념 : 직접 RNN 연산을 해본다.\n",
        "- 코드를 통해 풀어주세요.\n",
        "\n",
        "아래 그림의 RNN처럼 $h_{t-1}$과 $x_t$값을 넣어서 $y_t$값을 구하고자 한다. 주어진 코드를 이용하여 $y_t$의 값을 구하라.\n",
        "\n",
        "- 그림 : https://miro.medium.com/max/2000/1*QFOzE0TEMFERg3G5_5HiPA.png\n",
        "\n",
        "- activation function으로 tanh를 사용해주세요.\n",
        "- $h_{t-1}$의 size는 6입니다.\n",
        "- $x_t$의 size는 4입니다. 이 때, 4번 반복연산이 아니라 한번에 넣으면 됩니다.\n",
        "- $y_t$의 size는 6입니다. 따라서 최종 결과는 size 6의 vector가 나오면 됩니다.\n",
        "- 힌트 : tanh($W_h h_{t-1}+W_x x_t$)을 구하면 됩니다.\n",
        "\n",
        "\n"
      ]
    },
    {
      "cell_type": "code",
      "metadata": {
        "id": "WR3TEZRH3Ddh",
        "colab": {
          "base_uri": "https://localhost:8080/"
        },
        "outputId": "95786962-f8cd-4ddd-f939-f4cac3bd8b5b"
      },
      "source": [
        "import numpy as np\n",
        "\n",
        "h_t_1 = np.array([0.1, -0.2, 0.1, -0.4, 0.7, 0.8])\n",
        "x_t = np.array([0.5, 0.2, 0.4, -0.5])\n",
        "\n",
        "np.random.seed(0)\n",
        "W_h = np.random.randn(6,6)\n",
        "W_x = np.random.randn(6,4)\n",
        "\n",
        "# 여기에 코드로 작성\n",
        "\n",
        "np.tanh(np.dot(W_h, h_t_1) + np.dot(W_x, x_t))\n"
      ],
      "execution_count": 2,
      "outputs": [
        {
          "output_type": "execute_result",
          "data": {
            "text/plain": [
              "array([ 0.5883904 , -0.84862191, -0.36953994, -0.93595463,  0.97208067,\n",
              "        0.49777033])"
            ]
          },
          "metadata": {},
          "execution_count": 2
        }
      ]
    },
    {
      "cell_type": "markdown",
      "metadata": {
        "id": "o6XGbW-jh0Hy"
      },
      "source": [
        "\n",
        "# 문제2. Input Normalize\n",
        "- 난이도 : 하\n",
        "- 관련 개념 : RNN의 input을 normalize하지 않았을 때 생기는 문제점\n",
        "- 각 10점\n",
        "- 코드를 통해 풀어주세요.\n",
        "\n",
        "심층이는 RNN 모델링을 하려고 한다. 그런데 실수로 input data를 그대로 넣었더니 모델의 학습이 잘 되지 않았다. 이를 확인해보기 위해 input data에 큰 값을 넣어보려고 한다. `input_data`가 tanh를 지난 결과가 아래와 같았다. 심층이는 이를 해결하기 위해 `input_data`의 최대값으로 각 원소를 나누어서 normalize하려고 한다. 이를 진행하고 tanh에 넣은 결과를 보여라."
      ]
    },
    {
      "cell_type": "code",
      "metadata": {
        "id": "Hx28yTz53uRH",
        "colab": {
          "base_uri": "https://localhost:8080/"
        },
        "outputId": "751496b6-e574-4d29-9ad3-175767abccee"
      },
      "source": [
        "import numpy as np\n",
        "\n",
        "input_data = np.array([10, 5, 3, 5, 7, 10])\n",
        "result = np.tanh(input_data)\n",
        "print(result)\n",
        "\n",
        "# 여기에 코드로 작성\n",
        "input_data = input_data / input_data.max()\n",
        "print(np.tanh(input_data))"
      ],
      "execution_count": 3,
      "outputs": [
        {
          "output_type": "stream",
          "text": [
            "[1.         0.9999092  0.99505475 0.9999092  0.99999834 1.        ]\n",
            "[0.76159416 0.46211716 0.29131261 0.46211716 0.60436778 0.76159416]\n"
          ],
          "name": "stdout"
        }
      ]
    },
    {
      "cell_type": "markdown",
      "metadata": {
        "id": "UBMtw_Tl9hHa"
      },
      "source": [
        "\n",
        "# 문제3. Input Normalize\n",
        "- 난이도 : 하\n",
        "- 관련 개념 : RNN의 input을 normalize하지 않았을 때 생기는 문제점\n",
        "\n",
        "위의 2번에서 RNN 모델링을 진행할 떄, normalize하지 않고 그대로 모델링을 진행하면 생기는 문제점에 대해 자유롭게 논하시오.\n"
      ]
    },
    {
      "cell_type": "markdown",
      "metadata": {
        "id": "iavDHZ6hFJsw"
      },
      "source": [
        "- 활성화 함수인 tanh의 양 끝단이 saturate되는 문제로 인해 gradient killing 문제가 발생할 수 있다."
      ]
    },
    {
      "cell_type": "markdown",
      "metadata": {
        "id": "q1MTCNdPauIg"
      },
      "source": [
        "\n",
        "# 문제4. RNN 연산\n",
        "- 난이도 : 하\n",
        "- 관련 개념 : 1-D에서 RNN연산을 연습해본다.\n",
        "- 코드를 통해 풀어주세요.\n",
        "\n",
        "심층이는 단변량 시계열 데이터를 통해 RNN 모델링을 하고 있다. 아래의 주어진 data와 weight를 이용하여 1번 forward-propagation을 진행한 결과를 보여라.\n",
        "\n",
        "- RNN의 파라미터 공유를 이용하세요.\n",
        "- 첫 hidden state $h_0$은 모두 0의 값을 갖습니다. 또한 hidden state의 size는 6입니다.\n",
        "- 1-D input data가 sequentially 10개 있고 결과 $y_t$도 크기 6의 vector가 sequentially 10개가 나오게 하면 됩니다. 매 시점마다 $y_t$를 `print`하셔도 됩니다.\n",
        "- $y_t = tanh(W_h h_{t-1}+ W_x x_t)$\n",
        "\n"
      ]
    },
    {
      "cell_type": "code",
      "metadata": {
        "colab": {
          "base_uri": "https://localhost:8080/",
          "height": 283
        },
        "id": "w470KLZQIfKf",
        "outputId": "eec70313-bba6-469b-c0fa-0e5abd6d6dec"
      },
      "source": [
        "import numpy as np\n",
        "import matplotlib.pyplot as plt\n",
        "\n",
        "# 단변량 데이터\n",
        "data = np.array([1.5, 0.5, -2.0, 0.8, 1.0, 0.7, -1.8, 0.9, 2.3, 1.0])\n",
        "plt.plot(data)"
      ],
      "execution_count": 4,
      "outputs": [
        {
          "output_type": "execute_result",
          "data": {
            "text/plain": [
              "[<matplotlib.lines.Line2D at 0x7f15f5a094d0>]"
            ]
          },
          "metadata": {},
          "execution_count": 4
        },
        {
          "output_type": "display_data",
          "data": {
            "image/png": "[encoded data removed]",
            "text/plain": [
              "<Figure size 432x288 with 1 Axes>"
            ]
          },
          "metadata": {
            "needs_background": "light"
          }
        }
      ]
    },
    {
      "cell_type": "code",
      "metadata": {
        "id": "gFXv79iiJggm"
      },
      "source": [
        "# 주어진 weight\n",
        "h_0 = np.zeros((6,)) # 첫 시점 hidden state\n",
        "\n",
        "np.random.seed(0)\n",
        "W_h = np.random.randn(6,6)\n",
        "W_x = np.random.randn(6,) # x값 하나가 W_x에 곱하면 브로드캐스팅되면서 크기 6의 벡터가 되면 됩니다"
      ],
      "execution_count": 5,
      "outputs": []
    },
    {
      "cell_type": "code",
      "metadata": {
        "id": "tZEVLcH9AYwv",
        "colab": {
          "base_uri": "https://localhost:8080/"
        },
        "outputId": "9110fb9a-ed25-4df3-93e2-4b077e997ce7"
      },
      "source": [
        "# 여기에 작성하시면 됩니다\n",
        "h = h_0\n",
        "for idx, x in enumerate(data, 1):\n",
        "  print(f'y{idx}: {np.tanh(np.dot(W_h, h) + np.dot(W_x, x))}')\n",
        "  h = np.dot(W_h, h)"
      ],
      "execution_count": 9,
      "outputs": [
        {
          "output_type": "stream",
          "text": [
            "y1: [ 0.95131425  0.94717445 -0.52338477 -0.42473416 -0.91747466 -0.9721502 ]\n",
            "y2: [ 0.54773889  0.53789575 -0.19127804 -0.15001069 -0.48099386 -0.61068246]\n",
            "y3: [-0.98552424 -0.98382828  0.64962732  0.54031863  0.97028296  0.9931966 ]\n",
            "y4: [ 0.75489231  0.74512489 -0.30031105 -0.23723503 -0.68519542 -0.81306764]\n",
            "y5: [ 0.84266362  0.83437907 -0.36905342 -0.29341853 -0.78124314 -0.88960267]\n",
            "y6: [ 0.69687721  0.68669042 -0.26467485 -0.20850886 -0.62549854 -0.75906809]\n",
            "y7: [-0.97642939 -0.97397039  0.60258003  0.49611912  0.95514527  0.98802487]\n",
            "y8: [ 0.80309228  0.79399203 -0.33512816 -0.26555222 -0.73691653 -0.85595545]\n",
            "y9: [ 0.99305455  0.99210681 -0.71181414 -0.60137368 -0.98404853 -0.99709229]\n",
            "y10: [ 0.84266362  0.83437907 -0.36905342 -0.29341853 -0.78124314 -0.88960267]\n"
          ],
          "name": "stdout"
        }
      ]
    },
    {
      "cell_type": "markdown",
      "metadata": {
        "id": "UmRpgbLNbihI"
      },
      "source": [
        "\n",
        "# 문제5. LSTM\n",
        "- 난이도 : 하\n",
        "- 관련 개념 : LSTM에서 gate들의 역할\n",
        "\n",
        "그림을 참고하여 LSTM에서 아래의 gate들의 역할이 무엇인지 적으시오. 단, activation function을 설명에 포함하여서 적어주세요.\n",
        "\n",
        "![이미지](https://img1.daumcdn.net/thumb/R1280x0/?scode=mtistory2&fname=http%3A%2F%2Fcfile28.uf.tistory.com%2Fimage%2F22023B4F592AE8B6173AE9)\n",
        "\n",
        "- Forget gate\n",
        "- Input gate\n",
        "- Output gate\n",
        "\n",
        "\n",
        "\n"
      ]
    },
    {
      "cell_type": "markdown",
      "metadata": {
        "id": "sVaP6xVFSCP0"
      },
      "source": [
        "- 여기에 작성하세요 (더블클릭)"
      ]
    }
  ]
}